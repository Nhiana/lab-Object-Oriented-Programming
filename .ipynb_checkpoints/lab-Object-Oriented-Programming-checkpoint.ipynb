{
 "cells": [
  {
   "cell_type": "code",
   "execution_count": 15,
   "id": "bbdcc61b",
   "metadata": {},
   "outputs": [],
   "source": [
    "class Tv:\n",
    "    def __init__(self, on=False, volume=50, active_channel=1, input=\"Anthena\", size=42):\n",
    "        self.on = on\n",
    "        self.volume = volume\n",
    "        self.active_channel = active_channel\n",
    "        self.input = input\n",
    "        self.size = size\n",
    "        \n",
    "    def switch_on(self):\n",
    "        self.on = True\n",
    "        print('TV Switched ON')\n",
    "        \n",
    "    def switch_off(self):\n",
    "        self.on = False\n",
    "        print('TV Switched OFF')\n",
    "        \n",
    "    def set_volume(self, volume):\n",
    "        if volume < 0:\n",
    "            self.volume = 0\n",
    "        elif volume > 100:\n",
    "            self.volume = 100\n",
    "        else:\n",
    "            self.volume = volume\n",
    "            \n",
    "            \n",
    "    def change_channel(self, channel):\n",
    "        if channel < 1:\n",
    "            self.active_channel = 1\n",
    "        elif channel > 10:\n",
    "            self.active_channel = 10\n",
    "        else:\n",
    "            self.active_channel = channel\n",
    "            \n",
    "    def set_input(self, value):\n",
    "        allowed_inputs = [\"Anthena\", \"HDMI1\", \"HDMI2\", \"HDMI3\"]\n",
    "        if value in allowed_inputs:\n",
    "            self.input = value\n",
    "            "
   ]
  },
  {
   "cell_type": "code",
   "execution_count": 16,
   "id": "dd9b2cba",
   "metadata": {},
   "outputs": [],
   "source": [
    "my_tv = Tv()"
   ]
  },
  {
   "cell_type": "code",
   "execution_count": 17,
   "id": "43a7a925",
   "metadata": {},
   "outputs": [
    {
     "data": {
      "text/plain": [
       "42"
      ]
     },
     "execution_count": 17,
     "metadata": {},
     "output_type": "execute_result"
    }
   ],
   "source": [
    "my_tv.size"
   ]
  },
  {
   "cell_type": "code",
   "execution_count": 18,
   "id": "9f03c90c",
   "metadata": {},
   "outputs": [
    {
     "name": "stdout",
     "output_type": "stream",
     "text": [
      "TV Switched ON\n"
     ]
    }
   ],
   "source": [
    "my_tv.switch_on()"
   ]
  },
  {
   "cell_type": "code",
   "execution_count": 19,
   "id": "547685a7",
   "metadata": {},
   "outputs": [
    {
     "data": {
      "text/plain": [
       "True"
      ]
     },
     "execution_count": 19,
     "metadata": {},
     "output_type": "execute_result"
    }
   ],
   "source": [
    "my_tv.on"
   ]
  },
  {
   "cell_type": "code",
   "execution_count": 20,
   "id": "81b5b5c5",
   "metadata": {},
   "outputs": [],
   "source": [
    "my_tv.set_volume(80)"
   ]
  },
  {
   "cell_type": "code",
   "execution_count": 21,
   "id": "91743556",
   "metadata": {},
   "outputs": [
    {
     "data": {
      "text/plain": [
       "80"
      ]
     },
     "execution_count": 21,
     "metadata": {},
     "output_type": "execute_result"
    }
   ],
   "source": [
    "my_tv.volume"
   ]
  },
  {
   "cell_type": "code",
   "execution_count": 31,
   "id": "dec64204",
   "metadata": {},
   "outputs": [],
   "source": [
    "my_tv.change_channel(5)"
   ]
  },
  {
   "cell_type": "code",
   "execution_count": 33,
   "id": "e0ecf250",
   "metadata": {},
   "outputs": [
    {
     "ename": "AttributeError",
     "evalue": "'Tv' object has no attribute 'channel'",
     "output_type": "error",
     "traceback": [
      "\u001b[1;31m---------------------------------------------------------------------------\u001b[0m",
      "\u001b[1;31mAttributeError\u001b[0m                            Traceback (most recent call last)",
      "Cell \u001b[1;32mIn[33], line 1\u001b[0m\n\u001b[1;32m----> 1\u001b[0m my_tv\u001b[38;5;241m.\u001b[39mchannel\n",
      "\u001b[1;31mAttributeError\u001b[0m: 'Tv' object has no attribute 'channel'"
     ]
    }
   ],
   "source": [
    "my_tv.channel"
   ]
  },
  {
   "cell_type": "code",
   "execution_count": 27,
   "id": "b6f15f3e",
   "metadata": {},
   "outputs": [
    {
     "name": "stdout",
     "output_type": "stream",
     "text": [
      "TV Switched OFF\n"
     ]
    }
   ],
   "source": [
    "my_tv.switch_off()"
   ]
  },
  {
   "cell_type": "code",
   "execution_count": 34,
   "id": "a878262e",
   "metadata": {},
   "outputs": [
    {
     "data": {
      "text/plain": [
       "False"
      ]
     },
     "execution_count": 34,
     "metadata": {},
     "output_type": "execute_result"
    }
   ],
   "source": [
    "my_tv.on"
   ]
  },
  {
   "cell_type": "code",
   "execution_count": 36,
   "id": "9481f48c",
   "metadata": {},
   "outputs": [],
   "source": [
    "my_tv.set_input(\"Anthena\")"
   ]
  },
  {
   "cell_type": "code",
   "execution_count": 40,
   "id": "3b42f80d",
   "metadata": {},
   "outputs": [
    {
     "ename": "TypeError",
     "evalue": "Tv.set_input() missing 1 required positional argument: 'value'",
     "output_type": "error",
     "traceback": [
      "\u001b[1;31m---------------------------------------------------------------------------\u001b[0m",
      "\u001b[1;31mTypeError\u001b[0m                                 Traceback (most recent call last)",
      "Cell \u001b[1;32mIn[40], line 1\u001b[0m\n\u001b[1;32m----> 1\u001b[0m my_tv\u001b[38;5;241m.\u001b[39mset_input()\n",
      "\u001b[1;31mTypeError\u001b[0m: Tv.set_input() missing 1 required positional argument: 'value'"
     ]
    }
   ],
   "source": [
    "my_tv.set_input()"
   ]
  },
  {
   "cell_type": "code",
   "execution_count": null,
   "id": "e3546b05",
   "metadata": {},
   "outputs": [],
   "source": []
  }
 ],
 "metadata": {
  "kernelspec": {
   "display_name": "Python 3 (ipykernel)",
   "language": "python",
   "name": "python3"
  },
  "language_info": {
   "codemirror_mode": {
    "name": "ipython",
    "version": 3
   },
   "file_extension": ".py",
   "mimetype": "text/x-python",
   "name": "python",
   "nbconvert_exporter": "python",
   "pygments_lexer": "ipython3",
   "version": "3.11.5"
  }
 },
 "nbformat": 4,
 "nbformat_minor": 5
}
